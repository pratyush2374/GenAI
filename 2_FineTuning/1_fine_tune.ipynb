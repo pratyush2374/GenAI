{
 "cells": [
  {
   "cell_type": "code",
   "execution_count": null,
   "id": "7e358b91",
   "metadata": {},
   "outputs": [],
   "source": [
    "import os \n",
    "from dotenv import load_dotenv\n",
    "from transformers import AutoTokenizer, AutoModelForCausalLM\n",
    "\n",
    "load_dotenv()\n",
    "HF_TOKEN = os.getenv(\"HUGGING_FACE_TOKEN\")\n",
    "os.environ[\"HF_TOKEN\"] = HF_TOKEN\n",
    "\n",
    "device = \"cpu\"\n",
    "model_name = \"google/gemma-3-1b-it\"\n",
    "\n",
    "tokenizer = AutoTokenizer.from_pretrained(model_name)"
   ]
  },
  {
   "cell_type": "code",
   "execution_count": 14,
   "id": "d2ce768e",
   "metadata": {},
   "outputs": [
    {
     "data": {
      "text/plain": [
       "[2,\n",
       " 105,\n",
       " 2364,\n",
       " 107,\n",
       " 3689,\n",
       " 563,\n",
       " 506,\n",
       " 1791,\n",
       " 28551,\n",
       " 83725,\n",
       " 10318,\n",
       " 106,\n",
       " 107,\n",
       " 105,\n",
       " 4368,\n",
       " 107,\n",
       " 30340,\n",
       " 26359,\n",
       " 953,\n",
       " 506,\n",
       " 1791,\n",
       " 28551,\n",
       " 83725,\n",
       " 10318,\n",
       " 563,\n",
       " 106,\n",
       " 107]"
      ]
     },
     "execution_count": 14,
     "metadata": {},
     "output_type": "execute_result"
    }
   ],
   "source": [
    "input_conversation = [\n",
    "    {\"role\" : \"user\", \"content\" : \"What is the best JS frontend framework\"}, \n",
    "    {\"role\" : \"assistant\", \"content\" : \"Undoubtely the best JS frontend framework is \"}\n",
    "]\n",
    "\n",
    "input_token = tokenizer.apply_chat_template(\n",
    "    conversation=input_conversation,\n",
    "    tokenize=True\n",
    ")\n",
    "\n",
    "input_token"
   ]
  },
  {
   "cell_type": "code",
   "execution_count": 15,
   "id": "f034a161",
   "metadata": {},
   "outputs": [
    {
     "data": {
      "text/plain": [
       "'<bos><start_of_turn>user\\nWhat is the best JS frontend framework<end_of_turn>\\n<start_of_turn>model\\nUndoubtely the best JS frontend framework is'"
      ]
     },
     "execution_count": 15,
     "metadata": {},
     "output_type": "execute_result"
    }
   ],
   "source": [
    "input_detokens = tokenizer.apply_chat_template(\n",
    "    conversation=input_conversation,\n",
    "    tokenize=False,\n",
    "    continue_final_message=True,\n",
    ")\n",
    "input_detokens"
   ]
  },
  {
   "cell_type": "code",
   "execution_count": 17,
   "id": "13a94fc6",
   "metadata": {},
   "outputs": [
    {
     "data": {
      "text/plain": [
       "'<bos><start_of_turn>user\\nWhat is the best JS frontend framework<end_of_turn>\\n<start_of_turn>model\\nUndoubtely the best JS frontend framework is Next.js a React framework<eos>'"
      ]
     },
     "execution_count": 17,
     "metadata": {},
     "output_type": "execute_result"
    }
   ],
   "source": [
    "output_label = \" Next.js a React framework\"\n",
    "full_conversation = input_detokens + output_label + tokenizer.eos_token\n",
    "full_conversation"
   ]
  },
  {
   "cell_type": "code",
   "execution_count": 18,
   "id": "cfd1a2a8",
   "metadata": {},
   "outputs": [
    {
     "data": {
      "text/plain": [
       "tensor([[     2,    105,   2364,    107,   3689,    563,    506,   1791,  28551,\n",
       "          83725,  10318,    106,    107,    105,   4368,    107,  30340,  26359,\n",
       "            953,    506,   1791,  28551,  83725,  10318,    563,  12067, 236761,\n",
       "           2092,    496,   9945,  10318,      1]])"
      ]
     },
     "execution_count": 18,
     "metadata": {},
     "output_type": "execute_result"
    }
   ],
   "source": [
    "input_tokenized = tokenizer(full_conversation, return_tensors=\"pt\", add_special_tokens=False).to(device)[\"input_ids\"]\n",
    "input_tokenized"
   ]
  },
  {
   "cell_type": "code",
   "execution_count": 19,
   "id": "acd3460d",
   "metadata": {},
   "outputs": [
    {
     "name": "stdout",
     "output_type": "stream",
     "text": [
      "input_ids: tensor([[     2,    105,   2364,    107,   3689,    563,    506,   1791,  28551,\n",
      "          83725,  10318,    106,    107,    105,   4368,    107,  30340,  26359,\n",
      "            953,    506,   1791,  28551,  83725,  10318,    563,  12067, 236761,\n",
      "           2092,    496,   9945,  10318]])\n",
      "target_ids: tensor([[   105,   2364,    107,   3689,    563,    506,   1791,  28551,  83725,\n",
      "          10318,    106,    107,    105,   4368,    107,  30340,  26359,    953,\n",
      "            506,   1791,  28551,  83725,  10318,    563,  12067, 236761,   2092,\n",
      "            496,   9945,  10318,      1]])\n"
     ]
    }
   ],
   "source": [
    "input_ids = input_tokenized[:, :-1].to(device)\n",
    "target_ids = input_tokenized[:, 1:].to(device)\n",
    "print(f\"input_ids: {input_ids}\")\n",
    "print(f\"target_ids: {target_ids}\")"
   ]
  },
  {
   "cell_type": "code",
   "execution_count": null,
   "id": "84008e7e",
   "metadata": {},
   "outputs": [],
   "source": [
    "import torch.nn as nn"
   ]
  }
 ],
 "metadata": {
  "kernelspec": {
   "display_name": ".venv",
   "language": "python",
   "name": "python3"
  },
  "language_info": {
   "codemirror_mode": {
    "name": "ipython",
    "version": 3
   },
   "file_extension": ".py",
   "mimetype": "text/x-python",
   "name": "python",
   "nbconvert_exporter": "python",
   "pygments_lexer": "ipython3",
   "version": "3.13.3"
  }
 },
 "nbformat": 4,
 "nbformat_minor": 5
}
